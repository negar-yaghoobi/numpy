{
 "cells": [
  {
   "cell_type": "code",
   "execution_count": 2,
   "id": "936dd187-c8c1-4059-a449-aa1eb7548e74",
   "metadata": {},
   "outputs": [],
   "source": [
    "import numpy as np"
   ]
  },
  {
   "cell_type": "code",
   "execution_count": 3,
   "id": "0bfa059c-4e3c-4ce4-842d-56faa03ea3ae",
   "metadata": {},
   "outputs": [],
   "source": [
    "a = np.array([[1, 2],\n",
    "            [3, 4],\n",
    "            [5, 6]\n",
    "             ])"
   ]
  },
  {
   "cell_type": "markdown",
   "id": "165a4d0a-441d-4dd2-8eea-4ce2953e00fc",
   "metadata": {},
   "source": [
    "## size method"
   ]
  },
  {
   "cell_type": "code",
   "execution_count": 4,
   "id": "0c25c8c5-7fd7-41b5-8ca9-fe1fabb44cc1",
   "metadata": {},
   "outputs": [
    {
     "data": {
      "text/plain": [
       "6"
      ]
     },
     "execution_count": 4,
     "metadata": {},
     "output_type": "execute_result"
    }
   ],
   "source": [
    "a.size"
   ]
  }
 ],
 "metadata": {
  "kernelspec": {
   "display_name": "Python 3 (ipykernel)",
   "language": "python",
   "name": "python3"
  },
  "language_info": {
   "codemirror_mode": {
    "name": "ipython",
    "version": 3
   },
   "file_extension": ".py",
   "mimetype": "text/x-python",
   "name": "python",
   "nbconvert_exporter": "python",
   "pygments_lexer": "ipython3",
   "version": "3.12.3"
  }
 },
 "nbformat": 4,
 "nbformat_minor": 5
}
