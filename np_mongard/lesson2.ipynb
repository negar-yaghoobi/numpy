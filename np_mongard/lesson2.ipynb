{
 "cells": [
  {
   "cell_type": "code",
   "execution_count": 2,
   "id": "936dd187-c8c1-4059-a449-aa1eb7548e74",
   "metadata": {},
   "outputs": [],
   "source": [
    "import numpy as np"
   ]
  },
  {
   "cell_type": "code",
   "execution_count": 3,
   "id": "0bfa059c-4e3c-4ce4-842d-56faa03ea3ae",
   "metadata": {},
   "outputs": [],
   "source": [
    "a = np.array([[1, 2],\n",
    "            [3, 4],\n",
    "            [5, 6]\n",
    "             ])"
   ]
  },
  {
   "cell_type": "markdown",
   "id": "165a4d0a-441d-4dd2-8eea-4ce2953e00fc",
   "metadata": {},
   "source": [
    "## size method"
   ]
  },
  {
   "cell_type": "code",
   "execution_count": 4,
   "id": "0c25c8c5-7fd7-41b5-8ca9-fe1fabb44cc1",
   "metadata": {},
   "outputs": [
    {
     "data": {
      "text/plain": [
       "6"
      ]
     },
     "execution_count": 4,
     "metadata": {},
     "output_type": "execute_result"
    }
   ],
   "source": [
    "a.size"
   ]
  },
  {
   "cell_type": "markdown",
   "id": "a4f8a03e-a32c-491a-b6f2-f28f0e038a04",
   "metadata": {},
   "source": [
    "## reshape method"
   ]
  },
  {
   "cell_type": "code",
   "execution_count": 6,
   "id": "85c655fa-73ec-4aa6-9cf0-f17e647d26f4",
   "metadata": {},
   "outputs": [
    {
     "data": {
      "text/plain": [
       "(3, 2)"
      ]
     },
     "execution_count": 6,
     "metadata": {},
     "output_type": "execute_result"
    }
   ],
   "source": [
    "a.shape"
   ]
  },
  {
   "cell_type": "code",
   "execution_count": 7,
   "id": "5101502b-3eb8-40b5-b83e-5c50f3a5ec4e",
   "metadata": {},
   "outputs": [
    {
     "data": {
      "text/plain": [
       "array([[1, 2, 3],\n",
       "       [4, 5, 6]])"
      ]
     },
     "execution_count": 7,
     "metadata": {},
     "output_type": "execute_result"
    }
   ],
   "source": [
    "a.reshape(2,3)"
   ]
  },
  {
   "cell_type": "code",
   "execution_count": 8,
   "id": "a81c2404-e3e6-4e1d-9346-e4063caf8c2d",
   "metadata": {},
   "outputs": [
    {
     "data": {
      "text/plain": [
       "array([[1, 2, 3, 4, 5, 6]])"
      ]
     },
     "execution_count": 8,
     "metadata": {},
     "output_type": "execute_result"
    }
   ],
   "source": [
    "b = a.reshape(1, 6)\n",
    "b"
   ]
  },
  {
   "cell_type": "code",
   "execution_count": 10,
   "id": "4048c49c-d8c6-47cf-a848-832de0f9524b",
   "metadata": {},
   "outputs": [
    {
     "data": {
      "text/plain": [
       "array([[[1],\n",
       "        [2],\n",
       "        [3]],\n",
       "\n",
       "       [[4],\n",
       "        [5],\n",
       "        [6]]])"
      ]
     },
     "execution_count": 10,
     "metadata": {},
     "output_type": "execute_result"
    }
   ],
   "source": [
    "c = a.reshape(2, 3, 1)\n",
    "c"
   ]
  },
  {
   "cell_type": "code",
   "execution_count": 11,
   "id": "a2f1aa77-5a3a-48b3-b619-e6ddb89d0d6b",
   "metadata": {},
   "outputs": [
    {
     "data": {
      "text/plain": [
       "array([[1, 2],\n",
       "       [3, 4],\n",
       "       [5, 6]])"
      ]
     },
     "execution_count": 11,
     "metadata": {},
     "output_type": "execute_result"
    }
   ],
   "source": [
    "a"
   ]
  },
  {
   "cell_type": "markdown",
   "id": "0b9de6b6-5234-4397-a6c3-bc9bb0327cf8",
   "metadata": {},
   "source": [
    "## slicing array"
   ]
  },
  {
   "cell_type": "code",
   "execution_count": 12,
   "id": "a73f77ed-838f-464c-bb39-46b16d56e13b",
   "metadata": {},
   "outputs": [
    {
     "data": {
      "text/plain": [
       "array([3, 4])"
      ]
     },
     "execution_count": 12,
     "metadata": {},
     "output_type": "execute_result"
    }
   ],
   "source": [
    "a[1]"
   ]
  },
  {
   "cell_type": "markdown",
   "id": "448f2a5e-6c25-4c08-a3e7-d261c6a5158e",
   "metadata": {},
   "source": [
    "## slicing in python"
   ]
  },
  {
   "cell_type": "code",
   "execution_count": 14,
   "id": "706533b2-c1ac-424c-8c44-9cbbf011e2b0",
   "metadata": {},
   "outputs": [
    {
     "data": {
      "text/plain": [
       "np.int64(4)"
      ]
     },
     "execution_count": 14,
     "metadata": {},
     "output_type": "execute_result"
    }
   ],
   "source": [
    "a[1][1]"
   ]
  },
  {
   "cell_type": "markdown",
   "id": "c720ffa2-2c8c-48b3-8095-6d5e11b7939f",
   "metadata": {},
   "source": [
    "## slicing in python"
   ]
  },
  {
   "cell_type": "code",
   "execution_count": 18,
   "id": "39eef4e9-2c8c-4774-b95a-15be139933ae",
   "metadata": {},
   "outputs": [
    {
     "data": {
      "text/plain": [
       "np.int64(4)"
      ]
     },
     "execution_count": 18,
     "metadata": {},
     "output_type": "execute_result"
    }
   ],
   "source": [
    "a[1, 1]"
   ]
  },
  {
   "cell_type": "code",
   "execution_count": 21,
   "id": "400a9206-2c73-4fee-a675-f144b2e836a6",
   "metadata": {},
   "outputs": [
    {
     "data": {
      "text/plain": [
       "array([[1, 2],\n",
       "       [3, 4]])"
      ]
     },
     "execution_count": 21,
     "metadata": {},
     "output_type": "execute_result"
    }
   ],
   "source": [
    "a[0:2]"
   ]
  },
  {
   "cell_type": "markdown",
   "id": "48d05886-e712-4b76-a8b0-59ed11de5cfd",
   "metadata": {},
   "source": [
    "# Sticking two array together"
   ]
  },
  {
   "cell_type": "markdown",
   "id": "5431f027-9072-40b8-8e0e-f264dbce74b8",
   "metadata": {},
   "source": [
    "## 1 : vstack method"
   ]
  },
  {
   "cell_type": "code",
   "execution_count": 29,
   "id": "0b05ec8c-612e-4e18-82ca-9d7f99e8cb06",
   "metadata": {},
   "outputs": [
    {
     "data": {
      "text/plain": [
       "array([[ 1,  2],\n",
       "       [ 3,  4],\n",
       "       [ 5,  6],\n",
       "       [11, 22]])"
      ]
     },
     "execution_count": 29,
     "metadata": {},
     "output_type": "execute_result"
    }
   ],
   "source": [
    "a = np.array([[1, 2],\n",
    "            [3, 4],\n",
    "            [5, 6]\n",
    "             ])\n",
    "b = np.array([11,22])\n",
    "np.vstack((a, b))"
   ]
  },
  {
   "cell_type": "markdown",
   "id": "40ed46c7-5dc8-4648-b655-89e6891e744a",
   "metadata": {},
   "source": [
    "## 2 : hstack method"
   ]
  },
  {
   "cell_type": "code",
   "execution_count": 36,
   "id": "9b8e2fc1-2893-46de-a2e6-16a9aec56dac",
   "metadata": {},
   "outputs": [
    {
     "data": {
      "text/plain": [
       "array([[ 1,  2, 11, 22,  6],\n",
       "       [ 3,  4,  9,  0,  7],\n",
       "       [ 5,  6, 55, 66,  8]])"
      ]
     },
     "execution_count": 36,
     "metadata": {},
     "output_type": "execute_result"
    }
   ],
   "source": [
    "a = np.array([\n",
    "    [1, 2],\n",
    "    [3, 4],\n",
    "    [5, 6]\n",
    "             ])\n",
    "b = np.array([\n",
    "    [11, 22, 6],\n",
    "    [9, 0, 7],\n",
    "    [55, 66, 8]\n",
    "             ])\n",
    "np.hstack((a, b))"
   ]
  },
  {
   "cell_type": "markdown",
   "id": "be20e18b-c124-44a6-af3e-4d41f94cf35d",
   "metadata": {},
   "source": [
    "## 3 : concatenate method"
   ]
  },
  {
   "cell_type": "code",
   "execution_count": 44,
   "id": "362fd7c8-6cf6-403e-ae3a-c7b0338878e9",
   "metadata": {},
   "outputs": [
    {
     "data": {
      "text/plain": [
       "array([[ 1,  2],\n",
       "       [ 3,  4],\n",
       "       [ 5,  6],\n",
       "       [11, 22],\n",
       "       [ 9,  0]])"
      ]
     },
     "execution_count": 44,
     "metadata": {},
     "output_type": "execute_result"
    }
   ],
   "source": [
    "a = np.array([\n",
    "    [1, 2],\n",
    "    [3, 4],\n",
    "    [5, 6]\n",
    "             ])\n",
    "b = np.array([\n",
    "    [11, 22],\n",
    "    [9, 0]\n",
    "             ])\n",
    "np.concatenate((a, b))"
   ]
  },
  {
   "cell_type": "code",
   "execution_count": 42,
   "id": "ba175231-06c2-4f55-8cee-bc397b96dc41",
   "metadata": {},
   "outputs": [
    {
     "data": {
      "text/plain": [
       "array([[ 1,  2, 11],\n",
       "       [ 3,  4,  9],\n",
       "       [ 5,  6, 55]])"
      ]
     },
     "execution_count": 42,
     "metadata": {},
     "output_type": "execute_result"
    }
   ],
   "source": [
    "a = np.array([\n",
    "    [1, 2],\n",
    "    [3, 4],\n",
    "    [5, 6]\n",
    "             ])\n",
    "b = np.array([\n",
    "    [11],\n",
    "    [9],\n",
    "    [55]\n",
    "             ])\n",
    "np.concatenate((a, b), axis=1)"
   ]
  },
  {
   "cell_type": "markdown",
   "id": "eb70db18-4e1e-4571-81a9-6d5dd86327f6",
   "metadata": {},
   "source": [
    "---"
   ]
  },
  {
   "cell_type": "code",
   "execution_count": null,
   "id": "8578d447-45c0-4da4-9bb5-727cc8ba2f3d",
   "metadata": {},
   "outputs": [],
   "source": []
  }
 ],
 "metadata": {
  "kernelspec": {
   "display_name": "Python 3 (ipykernel)",
   "language": "python",
   "name": "python3"
  },
  "language_info": {
   "codemirror_mode": {
    "name": "ipython",
    "version": 3
   },
   "file_extension": ".py",
   "mimetype": "text/x-python",
   "name": "python",
   "nbconvert_exporter": "python",
   "pygments_lexer": "ipython3",
   "version": "3.12.3"
  }
 },
 "nbformat": 4,
 "nbformat_minor": 5
}
