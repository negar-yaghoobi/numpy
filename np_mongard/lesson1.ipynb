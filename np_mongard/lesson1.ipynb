{
 "cells": [
  {
   "cell_type": "markdown",
   "id": "35a52e5e-0957-457a-ae11-fac311d6a748",
   "metadata": {},
   "source": [
    "## use numpy"
   ]
  },
  {
   "cell_type": "code",
   "execution_count": 2,
   "id": "61501787-5f54-46b8-b7ce-365abd58498d",
   "metadata": {},
   "outputs": [],
   "source": [
    "import numpy as np"
   ]
  },
  {
   "cell_type": "markdown",
   "id": "2582fad5-b919-47c2-bda6-e5687fd39bd8",
   "metadata": {},
   "source": [
    "---"
   ]
  },
  {
   "cell_type": "markdown",
   "id": "4a6877e6-9fbf-41a2-a518-f4976fdd558a",
   "metadata": {},
   "source": [
    "## 0 D"
   ]
  },
  {
   "cell_type": "code",
   "execution_count": 23,
   "id": "e60185e3-c1e2-4305-9cea-cc70fa1d8474",
   "metadata": {},
   "outputs": [],
   "source": [
    "a = np.array(11)"
   ]
  },
  {
   "cell_type": "code",
   "execution_count": 24,
   "id": "acc3b3d2-2dd9-4a9f-a033-a21bd66d6bf1",
   "metadata": {},
   "outputs": [
    {
     "name": "stdout",
     "output_type": "stream",
     "text": [
      "11\n"
     ]
    }
   ],
   "source": [
    "print(a)"
   ]
  },
  {
   "cell_type": "markdown",
   "id": "fd0e51da-ba0b-4479-adab-9229c9ade030",
   "metadata": {},
   "source": [
    "## return dimensional by ndim method"
   ]
  },
  {
   "cell_type": "code",
   "execution_count": 25,
   "id": "0ee2de78-cf31-4d9d-8e18-106d87df6163",
   "metadata": {},
   "outputs": [
    {
     "data": {
      "text/plain": [
       "0"
      ]
     },
     "execution_count": 25,
     "metadata": {},
     "output_type": "execute_result"
    }
   ],
   "source": [
    "a.ndim"
   ]
  },
  {
   "cell_type": "markdown",
   "id": "a4aead00-9fd9-4b0e-aa55-1b508f2ee1ec",
   "metadata": {},
   "source": [
    "## 1D"
   ]
  },
  {
   "cell_type": "code",
   "execution_count": 4,
   "id": "743aec8b-108e-4fa0-8460-2b1fc98403e2",
   "metadata": {},
   "outputs": [],
   "source": [
    "a = np.array([1,2,3])"
   ]
  },
  {
   "cell_type": "code",
   "execution_count": 5,
   "id": "e24edbfd-ad95-435d-923d-5526134b20f1",
   "metadata": {},
   "outputs": [
    {
     "name": "stdout",
     "output_type": "stream",
     "text": [
      "[1 2 3]\n"
     ]
    }
   ],
   "source": [
    "print(a)"
   ]
  },
  {
   "cell_type": "code",
   "execution_count": null,
   "id": "0176189d-ab85-425c-a321-0a2923cad704",
   "metadata": {},
   "outputs": [],
   "source": [
    "a2 = np.array(\n",
    "    [1,2,3]\n",
    ")"
   ]
  },
  {
   "cell_type": "code",
   "execution_count": 6,
   "id": "982708ff-20f3-4768-8b3c-80796349e4a1",
   "metadata": {},
   "outputs": [
    {
     "data": {
      "text/plain": [
       "numpy.ndarray"
      ]
     },
     "execution_count": 6,
     "metadata": {},
     "output_type": "execute_result"
    }
   ],
   "source": [
    "type(a)"
   ]
  },
  {
   "cell_type": "code",
   "execution_count": 7,
   "id": "7533dba0-cd55-41e8-b593-349ff5d227a9",
   "metadata": {},
   "outputs": [
    {
     "data": {
      "text/plain": [
       "1"
      ]
     },
     "execution_count": 7,
     "metadata": {},
     "output_type": "execute_result"
    }
   ],
   "source": [
    "a.ndim"
   ]
  },
  {
   "cell_type": "code",
   "execution_count": 8,
   "id": "c32be905-2d55-4853-b65f-460502b09441",
   "metadata": {},
   "outputs": [
    {
     "data": {
      "text/plain": [
       "array([1, 2, 3])"
      ]
     },
     "execution_count": 8,
     "metadata": {},
     "output_type": "execute_result"
    }
   ],
   "source": [
    "a"
   ]
  },
  {
   "cell_type": "markdown",
   "id": "23e52720-27d0-4c47-bde9-0e37cd973363",
   "metadata": {},
   "source": [
    "## 2 D"
   ]
  },
  {
   "cell_type": "code",
   "execution_count": 10,
   "id": "32db2709-e9b2-4652-87d9-9b962dd0ad2e",
   "metadata": {},
   "outputs": [
    {
     "name": "stdout",
     "output_type": "stream",
     "text": [
      "[[1 2]\n",
      " [3 4]]\n"
     ]
    }
   ],
   "source": [
    "b1 = np.array([[1,2],[3,4]])\n",
    "print(b)"
   ]
  },
  {
   "cell_type": "code",
   "execution_count": 11,
   "id": "3584b605-1b75-402e-9dbc-ca153b9f3ebb",
   "metadata": {},
   "outputs": [
    {
     "data": {
      "text/plain": [
       "2"
      ]
     },
     "execution_count": 11,
     "metadata": {},
     "output_type": "execute_result"
    }
   ],
   "source": [
    "b1.ndim"
   ]
  },
  {
   "cell_type": "code",
   "execution_count": 12,
   "id": "9742cb85-6cb4-492e-ba2f-7da1ea655a8c",
   "metadata": {},
   "outputs": [],
   "source": [
    "b2 = np.array(\n",
    "    [\n",
    "        [1,2,3],\n",
    "        [1,2,3]\n",
    "    ]\n",
    ")"
   ]
  },
  {
   "cell_type": "code",
   "execution_count": 27,
   "id": "d4223de6-b1a5-4ba3-bbef-4dbdde71fc8e",
   "metadata": {},
   "outputs": [],
   "source": [
    "b3 = np.array(\n",
    "    [\n",
    "        [1,2,3],\n",
    "        [3,4,7],\n",
    "        [5,6,9]\n",
    "    ]\n",
    ")"
   ]
  },
  {
   "cell_type": "markdown",
   "id": "dd74c7c3-581d-440b-b0d4-0cdab1073750",
   "metadata": {},
   "source": [
    "## 3 D"
   ]
  },
  {
   "cell_type": "code",
   "execution_count": 21,
   "id": "4743226e-68f4-4a1f-ad48-01be9a372c56",
   "metadata": {},
   "outputs": [],
   "source": [
    "c = np.array([[[11,8],[2,3]],[[1,4],[5,6]]])"
   ]
  },
  {
   "cell_type": "code",
   "execution_count": 14,
   "id": "e339abf6-4265-4b38-ab57-fd19436db9cd",
   "metadata": {},
   "outputs": [],
   "source": [
    "c1 = np.array(\n",
    "    [\n",
    "        [\n",
    "            [1,2,3],\n",
    "            [1,2,3]\n",
    "        ],\n",
    "        [\n",
    "            [1,2,3],\n",
    "            [1,2,3]\n",
    "        ]\n",
    "    ]\n",
    ")\n"
   ]
  },
  {
   "cell_type": "code",
   "execution_count": 15,
   "id": "abfd900e-14d2-4eb8-ad8e-ce17be242c2e",
   "metadata": {},
   "outputs": [],
   "source": [
    "c2 = np.array(\n",
    "    [\n",
    "        [\n",
    "            [1]\n",
    "        ]\n",
    "    ]\n",
    ")"
   ]
  },
  {
   "cell_type": "code",
   "execution_count": 16,
   "id": "7720c35a-cfa7-4cd3-9313-23ccbc61a3e0",
   "metadata": {},
   "outputs": [
    {
     "data": {
      "text/plain": [
       "3"
      ]
     },
     "execution_count": 16,
     "metadata": {},
     "output_type": "execute_result"
    }
   ],
   "source": [
    "a.ndim"
   ]
  },
  {
   "cell_type": "markdown",
   "id": "3dc29fc2-4079-41aa-80c3-27c6acd8207a",
   "metadata": {},
   "source": [
    "## shape method"
   ]
  },
  {
   "cell_type": "code",
   "execution_count": 29,
   "id": "a7abfe6b-18d4-4c1d-8890-bb8be0c5bc5c",
   "metadata": {},
   "outputs": [],
   "source": [
    "c2 = np.array(\n",
    "    [\n",
    "        [\n",
    "            [1]\n",
    "        ]\n",
    "    ]\n",
    ")"
   ]
  },
  {
   "cell_type": "code",
   "execution_count": 30,
   "id": "409e45d2-9338-43b2-9aa7-e9ee470f5c9d",
   "metadata": {},
   "outputs": [
    {
     "data": {
      "text/plain": [
       "(1, 1, 1)"
      ]
     },
     "execution_count": 30,
     "metadata": {},
     "output_type": "execute_result"
    }
   ],
   "source": [
    "c2.shape"
   ]
  },
  {
   "cell_type": "code",
   "execution_count": 34,
   "id": "dbb7a68f-d3e9-4dc7-a26f-970761b65ce3",
   "metadata": {},
   "outputs": [],
   "source": [
    "c1 = np.array(\n",
    "    [\n",
    "        [\n",
    "            [1,2,3,4],\n",
    "            [1,2,3,4],\n",
    "            [11,2,3,4]\n",
    "        ],\n",
    "        [\n",
    "            [1,2,3,4],\n",
    "            [1,2,3,4],\n",
    "            [1,2,3,4]\n",
    "        ]\n",
    "    ]\n",
    ")\n"
   ]
  },
  {
   "cell_type": "code",
   "execution_count": 35,
   "id": "c455b43c-5c63-42f9-900e-7bf690283481",
   "metadata": {},
   "outputs": [
    {
     "data": {
      "text/plain": [
       "(2, 3, 4)"
      ]
     },
     "execution_count": 35,
     "metadata": {},
     "output_type": "execute_result"
    }
   ],
   "source": [
    "c1.shape"
   ]
  },
  {
   "cell_type": "markdown",
   "id": "7dc343ff-e2e0-486b-abfc-28d12f1c6ee0",
   "metadata": {},
   "source": [
    "## scalars"
   ]
  },
  {
   "cell_type": "code",
   "execution_count": 36,
   "id": "05789355-dc15-41aa-9ca7-e56a9bd70253",
   "metadata": {},
   "outputs": [
    {
     "data": {
      "text/plain": [
       "array([1. , 2.3])"
      ]
     },
     "execution_count": 36,
     "metadata": {},
     "output_type": "execute_result"
    }
   ],
   "source": [
    "a = np.array([1, 2.3])\n",
    "a"
   ]
  },
  {
   "cell_type": "code",
   "execution_count": 37,
   "id": "a28ec6f2-10c2-456e-acb9-3cdff95f977d",
   "metadata": {},
   "outputs": [
    {
     "ename": "TypeError",
     "evalue": "data type 'amir' not understood",
     "output_type": "error",
     "traceback": [
      "\u001b[0;31m---------------------------------------------------------------------------\u001b[0m",
      "\u001b[0;31mTypeError\u001b[0m                                 Traceback (most recent call last)",
      "Cell \u001b[0;32mIn[37], line 1\u001b[0m\n\u001b[0;32m----> 1\u001b[0m a \u001b[38;5;241m=\u001b[39m \u001b[43mnp\u001b[49m\u001b[38;5;241;43m.\u001b[39;49m\u001b[43marray\u001b[49m\u001b[43m(\u001b[49m\u001b[43m[\u001b[49m\u001b[38;5;241;43m1\u001b[39;49m\u001b[43m,\u001b[49m\u001b[43m \u001b[49m\u001b[38;5;241;43m2.3\u001b[39;49m\u001b[43m]\u001b[49m\u001b[43m,\u001b[49m\u001b[43m \u001b[49m\u001b[38;5;124;43m'\u001b[39;49m\u001b[38;5;124;43mamir\u001b[39;49m\u001b[38;5;124;43m'\u001b[39;49m\u001b[43m)\u001b[49m\n\u001b[1;32m      2\u001b[0m a\n",
      "\u001b[0;31mTypeError\u001b[0m: data type 'amir' not understood"
     ]
    }
   ],
   "source": [
    "a1 = np.array([1], 'amir')\n",
    "a1"
   ]
  },
  {
   "cell_type": "code",
   "execution_count": 3,
   "id": "ef92c54d-9f5a-4914-afa7-8895646f69f7",
   "metadata": {},
   "outputs": [
    {
     "data": {
      "text/plain": [
       "array(['1', 'true'], dtype='<U21')"
      ]
     },
     "execution_count": 3,
     "metadata": {},
     "output_type": "execute_result"
    }
   ],
   "source": [
    "a2 = np.array([1, 'true'])\n",
    "a2"
   ]
  },
  {
   "cell_type": "code",
   "execution_count": 4,
   "id": "720fc00f-e888-459a-bb5b-34c6343484dd",
   "metadata": {},
   "outputs": [
    {
     "data": {
      "text/plain": [
       "array([1, 1])"
      ]
     },
     "execution_count": 4,
     "metadata": {},
     "output_type": "execute_result"
    }
   ],
   "source": [
    "a3 = np.array([1, True])\n",
    "a3"
   ]
  },
  {
   "cell_type": "code",
   "execution_count": 3,
   "id": "6f3a0e0f-8e57-4d53-902e-b63327da6e87",
   "metadata": {},
   "outputs": [
    {
     "data": {
      "text/plain": [
       "array(['True', 'amir'], dtype='<U5')"
      ]
     },
     "execution_count": 3,
     "metadata": {},
     "output_type": "execute_result"
    }
   ],
   "source": [
    "a4 = np.array([True, 'amir'])\n",
    "a4"
   ]
  },
  {
   "cell_type": "markdown",
   "id": "b87bc619-8381-42e8-8cff-0fc76658246d",
   "metadata": {},
   "source": [
    "## datatype in array"
   ]
  },
  {
   "cell_type": "code",
   "execution_count": 6,
   "id": "aadbb3e9-25b7-482e-b3a7-42a5f22e33fa",
   "metadata": {},
   "outputs": [],
   "source": [
    "a5 = np.array([1, 2, 3], dtype = np.uint8)"
   ]
  },
  {
   "cell_type": "markdown",
   "id": "35c8776f-79b8-4865-8965-321a13a10676",
   "metadata": {},
   "source": [
    "## dtype method"
   ]
  },
  {
   "cell_type": "code",
   "execution_count": 7,
   "id": "287f074e-af81-4c23-9d60-6d7437fde818",
   "metadata": {},
   "outputs": [
    {
     "data": {
      "text/plain": [
       "dtype('uint8')"
      ]
     },
     "execution_count": 7,
     "metadata": {},
     "output_type": "execute_result"
    }
   ],
   "source": [
    "a5.dtype"
   ]
  },
  {
   "cell_type": "code",
   "execution_count": null,
   "id": "6205f25c-3bf6-4ab1-977a-8dc556ccf162",
   "metadata": {},
   "outputs": [],
   "source": []
  }
 ],
 "metadata": {
  "kernelspec": {
   "display_name": "Python 3 (ipykernel)",
   "language": "python",
   "name": "python3"
  },
  "language_info": {
   "codemirror_mode": {
    "name": "ipython",
    "version": 3
   },
   "file_extension": ".py",
   "mimetype": "text/x-python",
   "name": "python",
   "nbconvert_exporter": "python",
   "pygments_lexer": "ipython3",
   "version": "3.12.3"
  }
 },
 "nbformat": 4,
 "nbformat_minor": 5
}
